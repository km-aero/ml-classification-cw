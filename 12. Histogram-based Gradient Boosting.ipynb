{
 "cells": [
  {
   "cell_type": "code",
   "execution_count": 1,
   "metadata": {},
   "outputs": [],
   "source": [
    "#initialise general libraries\n",
    "import os\n",
    "import numpy as np\n",
    "import pandas as pd\n",
    "from pandas import DataFrame\n",
    "import pickle\n",
    "from sklearn.metrics import roc_auc_score\n",
    "from sklearn.model_selection import train_test_split\n",
    "from sklearn.experimental import enable_hist_gradient_boosting\n",
    "from sklearn.ensemble import HistGradientBoostingClassifier\n",
    "\n",
    "from matplotlib import pyplot as plt\n",
    "%matplotlib inline\n",
    "\n",
    "# Allows more columns to be shown for outputs\n",
    "pd.set_option('display.max_columns', 500)\n",
    "pd.set_option('display.max_rows', 5200)"
   ]
  },
  {
   "cell_type": "code",
   "execution_count": 2,
   "metadata": {},
   "outputs": [],
   "source": [
    "#set directories\n",
    "dirPData = \"C:/Users/kevin/Google Drive/AML/Projects/Coursework/PData/\"\n",
    "dirPOutput = \"C:/Users/kevin/Google Drive/AML/Projects/Coursework/POutput/\""
   ]
  },
  {
   "cell_type": "code",
   "execution_count": 3,
   "metadata": {},
   "outputs": [],
   "source": [
    "#import variables\n",
    "f_name = dirPData + 'ohprepVars.pickle'\n",
    "\n",
    "with open(f_name, \"rb\") as f:\n",
    "    dict_ = pickle.load(f)\n",
    "    \n",
    "df_test = dict_['df_test']\n",
    "df_train = dict_['df_train']\n",
    "OH_df_test = dict_['OH_df_test']\n",
    "OH_df_train = dict_['OH_df_train']\n",
    "del f_name, dict_\n",
    "\n",
    "#prepare X and y\n",
    "train_y = df_train['target'].values\n",
    "\n",
    "var_notToUse = ['id']\n",
    "\n",
    "allFeatures = [var for var in OH_df_train]\n",
    "\n",
    "train_X = OH_df_train[allFeatures]\n",
    "test_X = OH_df_test[allFeatures]\n",
    "\n",
    "#prepare validation data\n",
    "train_Xv, test_Xv, train_yv, test_yv = train_test_split(train_X, train_y, test_size=0.25, random_state=1)"
   ]
  },
  {
   "cell_type": "markdown",
   "metadata": {},
   "source": [
    "## Histogram-based Gradient Boosting Classification \n",
    "### Kaggle Score: 0.87152, Validation Score: 0.8802352181662525\n",
    "<img src=\"histgbm3.png\">"
   ]
  },
  {
   "cell_type": "code",
   "execution_count": 4,
   "metadata": {},
   "outputs": [
    {
     "name": "stdout",
     "output_type": "stream",
     "text": [
      "Validation score: 0.8802352181662525\n"
     ]
    }
   ],
   "source": [
    "hgbm_model1v = HistGradientBoostingClassifier(random_state=1, learning_rate=0.111, l2_regularization=0.11, max_iter=39, max_leaf_nodes=25, min_samples_leaf=25)\n",
    "hgbm_model1v.fit(train_Xv, train_yv)\n",
    "hgbmprediction1v = hgbm_model1v.predict_proba(test_Xv)\n",
    "print(\"Validation score:\",roc_auc_score(test_yv, hgbmprediction1v[:,1]))"
   ]
  },
  {
   "cell_type": "code",
   "execution_count": 5,
   "metadata": {},
   "outputs": [],
   "source": [
    "hgbm_model3 = HistGradientBoostingClassifier(random_state=1, learning_rate=0.111, l2_regularization=0.111, max_iter=39, max_leaf_nodes=25, min_samples_leaf=25)\n",
    "hgbm_model3.fit(train_X, train_y)\n",
    "hgbmprediction3 = hgbm_model3.predict_proba(test_X)"
   ]
  },
  {
   "cell_type": "code",
   "execution_count": 6,
   "metadata": {},
   "outputs": [
    {
     "data": {
      "text/html": [
       "<div>\n",
       "<style scoped>\n",
       "    .dataframe tbody tr th:only-of-type {\n",
       "        vertical-align: middle;\n",
       "    }\n",
       "\n",
       "    .dataframe tbody tr th {\n",
       "        vertical-align: top;\n",
       "    }\n",
       "\n",
       "    .dataframe thead th {\n",
       "        text-align: right;\n",
       "    }\n",
       "</style>\n",
       "<table border=\"1\" class=\"dataframe\">\n",
       "  <thead>\n",
       "    <tr style=\"text-align: right;\">\n",
       "      <th></th>\n",
       "      <th>target</th>\n",
       "    </tr>\n",
       "    <tr>\n",
       "      <th>id</th>\n",
       "      <th></th>\n",
       "    </tr>\n",
       "  </thead>\n",
       "  <tbody>\n",
       "    <tr>\n",
       "      <th>5</th>\n",
       "      <td>0.025898</td>\n",
       "    </tr>\n",
       "    <tr>\n",
       "      <th>10</th>\n",
       "      <td>0.087922</td>\n",
       "    </tr>\n",
       "    <tr>\n",
       "      <th>11</th>\n",
       "      <td>0.026751</td>\n",
       "    </tr>\n",
       "    <tr>\n",
       "      <th>13</th>\n",
       "      <td>0.160207</td>\n",
       "    </tr>\n",
       "    <tr>\n",
       "      <th>16</th>\n",
       "      <td>0.019530</td>\n",
       "    </tr>\n",
       "  </tbody>\n",
       "</table>\n",
       "</div>"
      ],
      "text/plain": [
       "      target\n",
       "id          \n",
       "5   0.025898\n",
       "10  0.087922\n",
       "11  0.026751\n",
       "13  0.160207\n",
       "16  0.019530"
      ]
     },
     "execution_count": 6,
     "metadata": {},
     "output_type": "execute_result"
    }
   ],
   "source": [
    "hgbmpred3 = {'id': df_test['id'].values,\n",
    "        'target': hgbmprediction3[:,1]}\n",
    "df_hgbmpred3 = DataFrame(hgbmpred3)\n",
    "\n",
    "df_hgbmpred3 = df_hgbmpred3.reset_index().set_index('id')\n",
    "df_hgbmpred3 = df_hgbmpred3.drop(columns='index')\n",
    "df_hgbmpred3.head()"
   ]
  },
  {
   "cell_type": "code",
   "execution_count": 7,
   "metadata": {},
   "outputs": [],
   "source": [
    "df_hgbmpred3.to_csv(r'C:/Users/kevin/Google Drive/AML/Projects/Coursework/POutput/histgbm3.csv')"
   ]
  },
  {
   "cell_type": "code",
   "execution_count": 8,
   "metadata": {},
   "outputs": [
    {
     "name": "stdout",
     "output_type": "stream",
     "text": [
      "Model ran 39 iterations, had [] train score and [] validation score\n"
     ]
    }
   ],
   "source": [
    "niter = hgbm_model3.n_iter_\n",
    "ts = hgbm_model3.train_score_\n",
    "vs = hgbm_model3.validation_score_\n",
    "\n",
    "print(\"Model ran\", niter, \"iterations, had\", ts, \"train score and\", vs, \"validation score\")"
   ]
  },
  {
   "cell_type": "markdown",
   "metadata": {},
   "source": [
    "* The train and validation scores are both empty which show the model was never stopped early"
   ]
  }
 ],
 "metadata": {
  "kernelspec": {
   "display_name": "Python 3",
   "language": "python",
   "name": "python3"
  },
  "language_info": {
   "codemirror_mode": {
    "name": "ipython",
    "version": 3
   },
   "file_extension": ".py",
   "mimetype": "text/x-python",
   "name": "python",
   "nbconvert_exporter": "python",
   "pygments_lexer": "ipython3",
   "version": "3.6.8"
  }
 },
 "nbformat": 4,
 "nbformat_minor": 2
}
