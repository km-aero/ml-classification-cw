{
 "cells": [
  {
   "cell_type": "code",
   "execution_count": 1,
   "metadata": {},
   "outputs": [],
   "source": [
    "import os\n",
    "import numpy as np\n",
    "import pandas as pd\n",
    "from pandas import DataFrame\n",
    "import pickle\n",
    "\n",
    "from sklearn import preprocessing\n",
    "from sklearn.ensemble import RandomForestClassifier\n",
    "from sklearn.model_selection import train_test_split\n",
    "from sklearn.metrics import roc_auc_score\n",
    "from matplotlib import pyplot as plt\n",
    "%matplotlib inline\n",
    "\n",
    "# Allows more columns to be shown for outputs\n",
    "pd.set_option('display.max_columns', 500)\n",
    "pd.set_option('display.max_rows', 5200)"
   ]
  },
  {
   "cell_type": "code",
   "execution_count": 2,
   "metadata": {},
   "outputs": [],
   "source": [
    "#set directories\n",
    "dirRawData = \"C:/Users/kevin/Google Drive/AML/Projects/Coursework/RawData/\"\n",
    "dirPData = \"C:/Users/kevin/Google Drive/AML/Projects/Coursework/PData/\"\n",
    "dirPOutput = \"C:/Users/kevin/Google Drive/AML/Projects/Coursework/POutput/\""
   ]
  },
  {
   "cell_type": "code",
   "execution_count": 3,
   "metadata": {},
   "outputs": [],
   "source": [
    "#import variables\n",
    "f_name = dirPData + 'prepVars.pickle'\n",
    "\n",
    "with open(f_name, \"rb\") as f:\n",
    "    dict_ = pickle.load(f)\n",
    "    \n",
    "df_test = dict_['df_test']\n",
    "df_train = dict_['df_train']\n",
    "df_train_num = dict_['df_train_num']\n",
    "df_train_cat = dict_['df_train_cat']\n",
    "vars_ind_numeric_train = dict_['vars_ind_numeric_train']\n",
    "vars_ind_cat_train = dict_['vars_ind_cat_train']\n",
    "del f_name, dict_"
   ]
  },
  {
   "cell_type": "code",
   "execution_count": 4,
   "metadata": {},
   "outputs": [],
   "source": [
    "train_y = df_train['target'].values\n",
    "\n",
    "var_notToUse = ['id']\n",
    "\n",
    "allFeatures = [var for var in df_train if var not in 'target'] \n",
    "allFeaturesNum = list(df_train[allFeatures].columns[df_train[allFeatures].dtypes != 'object'])\n",
    "\n",
    "train_X = df_train[allFeaturesNum]\n",
    "test_X = df_test[allFeaturesNum]"
   ]
  },
  {
   "cell_type": "markdown",
   "metadata": {},
   "source": [
    "# Validation scheme\n",
    "* We split the train data into a 75/25 split between train/test. The model is first trained onto the split train data (train_Xv and train_yv) and then the model is used to predict the probability estimates of the test data (test Xv). We then use the roc auc score (Area Under the Receiver Operating Characteristic Curve) as it is the scoring method used by the Kaggle competition.\n",
    "* Once the score is calculated, the model is trained again on the whole train data (train_X and train_y) without the split and is used to predict the test data (test_X). This is then submitted to Kaggle if the performance is satisfactory."
   ]
  },
  {
   "cell_type": "code",
   "execution_count": 5,
   "metadata": {},
   "outputs": [],
   "source": [
    "#prepare validation data\n",
    "train_Xv, test_Xv, train_yv, test_yv = train_test_split(train_X, train_y, test_size=0.25, random_state=1)"
   ]
  },
  {
   "cell_type": "markdown",
   "metadata": {},
   "source": [
    "## Random Forest Classifier Model\n",
    "### Kaggle Score: 0.83528, Validation Score: 0.8431343241688068\n",
    "<img src=\"naiverfc1.png\">\n",
    "* Naive model using only numeric variables\n",
    "* assume all variables explain target\n",
    "* This model outputs probabilities of 1s\n",
    "* set the seed for reproducible results\n",
    "* set the number of trees to 100"
   ]
  },
  {
   "cell_type": "code",
   "execution_count": 6,
   "metadata": {},
   "outputs": [
    {
     "name": "stdout",
     "output_type": "stream",
     "text": [
      "Validation score: 0.8431343241688068\n"
     ]
    }
   ],
   "source": [
    "randForest_rModelv = RandomForestClassifier(random_state=1, n_estimators=100)\n",
    "randForest_rModelv.fit(train_Xv, train_yv)\n",
    "randfprediction1v = randForest_rModelv.predict_proba(test_Xv)\n",
    "print(\"Validation score:\",roc_auc_score(test_yv, randfprediction1v[:,1]))"
   ]
  },
  {
   "cell_type": "code",
   "execution_count": 7,
   "metadata": {},
   "outputs": [
    {
     "data": {
      "text/html": [
       "<div>\n",
       "<style scoped>\n",
       "    .dataframe tbody tr th:only-of-type {\n",
       "        vertical-align: middle;\n",
       "    }\n",
       "\n",
       "    .dataframe tbody tr th {\n",
       "        vertical-align: top;\n",
       "    }\n",
       "\n",
       "    .dataframe thead th {\n",
       "        text-align: right;\n",
       "    }\n",
       "</style>\n",
       "<table border=\"1\" class=\"dataframe\">\n",
       "  <thead>\n",
       "    <tr style=\"text-align: right;\">\n",
       "      <th></th>\n",
       "      <th>target</th>\n",
       "    </tr>\n",
       "    <tr>\n",
       "      <th>id</th>\n",
       "      <th></th>\n",
       "    </tr>\n",
       "  </thead>\n",
       "  <tbody>\n",
       "    <tr>\n",
       "      <th>5</th>\n",
       "      <td>0.06</td>\n",
       "    </tr>\n",
       "    <tr>\n",
       "      <th>10</th>\n",
       "      <td>0.27</td>\n",
       "    </tr>\n",
       "    <tr>\n",
       "      <th>11</th>\n",
       "      <td>0.17</td>\n",
       "    </tr>\n",
       "    <tr>\n",
       "      <th>13</th>\n",
       "      <td>0.40</td>\n",
       "    </tr>\n",
       "    <tr>\n",
       "      <th>16</th>\n",
       "      <td>0.09</td>\n",
       "    </tr>\n",
       "  </tbody>\n",
       "</table>\n",
       "</div>"
      ],
      "text/plain": [
       "    target\n",
       "id        \n",
       "5     0.06\n",
       "10    0.27\n",
       "11    0.17\n",
       "13    0.40\n",
       "16    0.09"
      ]
     },
     "execution_count": 7,
     "metadata": {},
     "output_type": "execute_result"
    }
   ],
   "source": [
    "randForest_rModel = RandomForestClassifier(random_state=1, n_estimators=100)\n",
    "randForest_rModel.fit(train_X, train_y)\n",
    "prediction1 = randForest_rModel.predict_proba(test_X)\n",
    "\n",
    "pred1 = {'id': df_test['id'].values,\n",
    "        'target': prediction1[:,1]}\n",
    "df_pred1 = DataFrame(pred1)\n",
    "\n",
    "df_pred1 = df_pred1.reset_index().set_index('id')\n",
    "df_pred1 = df_pred1.drop(columns='index')\n",
    "df_pred1.head()"
   ]
  },
  {
   "cell_type": "code",
   "execution_count": 8,
   "metadata": {},
   "outputs": [],
   "source": [
    "df_pred1.to_csv(r'C:/Users/kevin/Google Drive/AML/Projects/Coursework/POutput/naiverfc1.csv')"
   ]
  }
 ],
 "metadata": {
  "kernelspec": {
   "display_name": "Python 3",
   "language": "python",
   "name": "python3"
  },
  "language_info": {
   "codemirror_mode": {
    "name": "ipython",
    "version": 3
   },
   "file_extension": ".py",
   "mimetype": "text/x-python",
   "name": "python",
   "nbconvert_exporter": "python",
   "pygments_lexer": "ipython3",
   "version": "3.6.8"
  }
 },
 "nbformat": 4,
 "nbformat_minor": 2
}
