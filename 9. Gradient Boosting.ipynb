{
 "cells": [
  {
   "cell_type": "code",
   "execution_count": 1,
   "metadata": {},
   "outputs": [],
   "source": [
    "#initialise general libraries\n",
    "import os\n",
    "import numpy as np\n",
    "import pandas as pd\n",
    "from pandas import DataFrame\n",
    "import pickle\n",
    "from sklearn.metrics import roc_auc_score\n",
    "from sklearn.model_selection import train_test_split\n",
    "from sklearn.ensemble import GradientBoostingClassifier\n",
    "\n",
    "from matplotlib import pyplot as plt\n",
    "%matplotlib inline\n",
    "\n",
    "# Allows more columns to be shown for outputs\n",
    "pd.set_option('display.max_columns', 500)\n",
    "pd.set_option('display.max_rows', 5200)"
   ]
  },
  {
   "cell_type": "code",
   "execution_count": 2,
   "metadata": {},
   "outputs": [],
   "source": [
    "#set directories\n",
    "dirPData = \"C:/Users/kevin/Google Drive/AML/Projects/Coursework/PData/\"\n",
    "dirPOutput = \"C:/Users/kevin/Google Drive/AML/Projects/Coursework/POutput/\""
   ]
  },
  {
   "cell_type": "code",
   "execution_count": 3,
   "metadata": {},
   "outputs": [],
   "source": [
    "#import variables\n",
    "f_name = dirPData + 'ohprepVars.pickle'\n",
    "\n",
    "with open(f_name, \"rb\") as f:\n",
    "    dict_ = pickle.load(f)\n",
    "    \n",
    "df_test = dict_['df_test']\n",
    "df_train = dict_['df_train']\n",
    "OH_df_test = dict_['OH_df_test']\n",
    "OH_df_train = dict_['OH_df_train']\n",
    "del f_name, dict_\n",
    "\n",
    "#prepare X and y\n",
    "train_y = df_train['target'].values\n",
    "\n",
    "var_notToUse = ['id']\n",
    "\n",
    "allFeatures = [var for var in OH_df_train]\n",
    "\n",
    "train_X = OH_df_train[allFeatures]\n",
    "test_X = OH_df_test[allFeatures]\n",
    "\n",
    "#prepare validation data\n",
    "train_Xv, test_Xv, train_yv, test_yv = train_test_split(train_X, train_y, test_size=0.25, random_state=1)"
   ]
  },
  {
   "cell_type": "markdown",
   "metadata": {},
   "source": [
    "# Gradient Boosting Model\n",
    "## Gradient Boosting Classifier \n",
    "### Kaggle Score: 0.88140, Validation Score: 0.8799517213310317\n",
    "<img src=\"gradboo2.png\">\n",
    "Technique which creates a prediction model entailing of weaker regression tree prediction models. The model uses a loss function and minimises it for supervised learning. This learning is repeated until the loss function reaches its minimum and the best 'parts' of the weaker models are identified and used"
   ]
  },
  {
   "cell_type": "code",
   "execution_count": 4,
   "metadata": {},
   "outputs": [
    {
     "name": "stdout",
     "output_type": "stream",
     "text": [
      "Validation score: 0.8799517213310317\n"
     ]
    }
   ],
   "source": [
    "gb_model1v = GradientBoostingClassifier(random_state=1, learning_rate=0.111)\n",
    "gb_model1v.fit(train_Xv, train_yv)\n",
    "gbprediction1v = gb_model1v.predict_proba(test_Xv)\n",
    "print(\"Validation score:\",roc_auc_score(test_yv, gbprediction1v[:,1]))"
   ]
  },
  {
   "cell_type": "code",
   "execution_count": 5,
   "metadata": {},
   "outputs": [],
   "source": [
    "gb_model2 = GradientBoostingClassifier(random_state=1, learning_rate=0.111)\n",
    "gb_model2.fit(train_X, train_y)\n",
    "gbprediction2 = gb_model2.predict_proba(test_X)"
   ]
  },
  {
   "cell_type": "code",
   "execution_count": 6,
   "metadata": {},
   "outputs": [
    {
     "data": {
      "text/html": [
       "<div>\n",
       "<style scoped>\n",
       "    .dataframe tbody tr th:only-of-type {\n",
       "        vertical-align: middle;\n",
       "    }\n",
       "\n",
       "    .dataframe tbody tr th {\n",
       "        vertical-align: top;\n",
       "    }\n",
       "\n",
       "    .dataframe thead th {\n",
       "        text-align: right;\n",
       "    }\n",
       "</style>\n",
       "<table border=\"1\" class=\"dataframe\">\n",
       "  <thead>\n",
       "    <tr style=\"text-align: right;\">\n",
       "      <th></th>\n",
       "      <th>target</th>\n",
       "    </tr>\n",
       "    <tr>\n",
       "      <th>id</th>\n",
       "      <th></th>\n",
       "    </tr>\n",
       "  </thead>\n",
       "  <tbody>\n",
       "    <tr>\n",
       "      <th>5</th>\n",
       "      <td>0.052184</td>\n",
       "    </tr>\n",
       "    <tr>\n",
       "      <th>10</th>\n",
       "      <td>0.102114</td>\n",
       "    </tr>\n",
       "    <tr>\n",
       "      <th>11</th>\n",
       "      <td>0.034434</td>\n",
       "    </tr>\n",
       "    <tr>\n",
       "      <th>13</th>\n",
       "      <td>0.183621</td>\n",
       "    </tr>\n",
       "    <tr>\n",
       "      <th>16</th>\n",
       "      <td>0.016977</td>\n",
       "    </tr>\n",
       "  </tbody>\n",
       "</table>\n",
       "</div>"
      ],
      "text/plain": [
       "      target\n",
       "id          \n",
       "5   0.052184\n",
       "10  0.102114\n",
       "11  0.034434\n",
       "13  0.183621\n",
       "16  0.016977"
      ]
     },
     "execution_count": 6,
     "metadata": {},
     "output_type": "execute_result"
    }
   ],
   "source": [
    "gbpred2 = {'id': df_test['id'].values,\n",
    "        'target': gbprediction2[:,1]}\n",
    "df_gbpred2 = DataFrame(gbpred2)\n",
    "\n",
    "df_gbpred2 = df_gbpred2.reset_index().set_index('id')\n",
    "df_gbpred2 = df_gbpred2.drop(columns='index')\n",
    "df_gbpred2.head()"
   ]
  },
  {
   "cell_type": "code",
   "execution_count": 7,
   "metadata": {},
   "outputs": [],
   "source": [
    "df_gbpred2.to_csv(r'C:/Users/kevin/Google Drive/AML/Projects/Coursework/POutput/gradboo2.csv')"
   ]
  },
  {
   "cell_type": "code",
   "execution_count": 9,
   "metadata": {},
   "outputs": [
    {
     "data": {
      "image/png": "[encoded data removed]",
      "text/plain": [
       "<Figure size 1080x720 with 1 Axes>"
      ]
     },
     "metadata": {
      "needs_background": "light"
     },
     "output_type": "display_data"
    }
   ],
   "source": [
    "gbfeatsUsed2 = gb_model2.feature_importances_\n",
    "plt.figure(figsize=(15,10))\n",
    "plt.title(\"Feature importances\")\n",
    "plt.plot(gbfeatsUsed2)\n",
    "plt.show()"
   ]
  },
  {
   "cell_type": "markdown",
   "metadata": {},
   "source": [
    "* Features below 0.005 should be dropped to improve the model"
   ]
  },
  {
   "cell_type": "code",
   "execution_count": null,
   "metadata": {},
   "outputs": [],
   "source": []
  }
 ],
 "metadata": {
  "kernelspec": {
   "display_name": "Python 3",
   "language": "python",
   "name": "python3"
  },
  "language_info": {
   "codemirror_mode": {
    "name": "ipython",
    "version": 3
   },
   "file_extension": ".py",
   "mimetype": "text/x-python",
   "name": "python",
   "nbconvert_exporter": "python",
   "pygments_lexer": "ipython3",
   "version": "3.6.8"
  }
 },
 "nbformat": 4,
 "nbformat_minor": 2
}
