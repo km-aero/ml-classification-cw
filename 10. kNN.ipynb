{
 "cells": [
  {
   "cell_type": "code",
   "execution_count": 1,
   "metadata": {},
   "outputs": [],
   "source": [
    "#initialise general libraries\n",
    "import os\n",
    "import numpy as np\n",
    "import pandas as pd\n",
    "from pandas import DataFrame\n",
    "import pickle\n",
    "from sklearn.metrics import roc_auc_score\n",
    "from sklearn.model_selection import train_test_split\n",
    "from sklearn.neighbors import KNeighborsClassifier\n",
    "\n",
    "from matplotlib import pyplot as plt\n",
    "%matplotlib inline\n",
    "\n",
    "# Allows more columns to be shown for outputs\n",
    "pd.set_option('display.max_columns', 500)\n",
    "pd.set_option('display.max_rows', 5200)"
   ]
  },
  {
   "cell_type": "code",
   "execution_count": 2,
   "metadata": {},
   "outputs": [],
   "source": [
    "#set directories\n",
    "dirPData = \"C:/Users/kevin/Google Drive/AML/Projects/Coursework/PData/\"\n",
    "dirPOutput = \"C:/Users/kevin/Google Drive/AML/Projects/Coursework/POutput/\""
   ]
  },
  {
   "cell_type": "code",
   "execution_count": 3,
   "metadata": {},
   "outputs": [],
   "source": [
    "#import variables\n",
    "f_name = dirPData + 'ohprepVars.pickle'\n",
    "\n",
    "with open(f_name, \"rb\") as f:\n",
    "    dict_ = pickle.load(f)\n",
    "    \n",
    "df_test = dict_['df_test']\n",
    "df_train = dict_['df_train']\n",
    "OH_df_test = dict_['OH_df_test']\n",
    "OH_df_train = dict_['OH_df_train']\n",
    "del f_name, dict_\n",
    "\n",
    "#prepare X and y\n",
    "train_y = df_train['target'].values\n",
    "\n",
    "var_notToUse = ['id']\n",
    "\n",
    "allFeatures = [var for var in OH_df_train]\n",
    "\n",
    "train_X = OH_df_train[allFeatures]\n",
    "test_X = OH_df_test[allFeatures]\n",
    "\n",
    "#prepare validation data\n",
    "train_Xv, test_Xv, train_yv, test_yv = train_test_split(train_X, train_y, test_size=0.25, random_state=1)"
   ]
  },
  {
   "cell_type": "markdown",
   "metadata": {},
   "source": [
    "# k-NN Model\n",
    "## K Neighbors Classifier \n",
    "### Kaggle Score: 0.67995, Validation Score: 0.7130015578291442\n",
    "<img src=\"knn2.png\">\n",
    "For each point, the technique checks the k closest data points and determines the point's class by comparing it to the k closest point's class. For example if k=3 and the 3 closest points are green, then the point being predicted will be predicted to be green."
   ]
  },
  {
   "cell_type": "code",
   "execution_count": 4,
   "metadata": {},
   "outputs": [
    {
     "name": "stdout",
     "output_type": "stream",
     "text": [
      "Validation score: 0.7130015578291442\n"
     ]
    }
   ],
   "source": [
    "knn_model1v = KNeighborsClassifier(algorithm='auto',n_jobs=2, weights='distance')\n",
    "knn_model1v.fit(train_Xv, train_yv)\n",
    "knnprediction1v = knn_model1v.predict_proba(test_Xv)\n",
    "print(\"Validation score:\",roc_auc_score(test_yv, knnprediction1v[:,1]))"
   ]
  },
  {
   "cell_type": "code",
   "execution_count": 5,
   "metadata": {},
   "outputs": [],
   "source": [
    "knn_model2 = KNeighborsClassifier(algorithm='auto',n_jobs=2, weights='distance')\n",
    "knn_model2.fit(train_X, train_y)\n",
    "knnprediction2 = knn_model2.predict_proba(test_X)"
   ]
  },
  {
   "cell_type": "code",
   "execution_count": 6,
   "metadata": {},
   "outputs": [
    {
     "data": {
      "text/html": [
       "<div>\n",
       "<style scoped>\n",
       "    .dataframe tbody tr th:only-of-type {\n",
       "        vertical-align: middle;\n",
       "    }\n",
       "\n",
       "    .dataframe tbody tr th {\n",
       "        vertical-align: top;\n",
       "    }\n",
       "\n",
       "    .dataframe thead th {\n",
       "        text-align: right;\n",
       "    }\n",
       "</style>\n",
       "<table border=\"1\" class=\"dataframe\">\n",
       "  <thead>\n",
       "    <tr style=\"text-align: right;\">\n",
       "      <th></th>\n",
       "      <th>target</th>\n",
       "    </tr>\n",
       "    <tr>\n",
       "      <th>id</th>\n",
       "      <th></th>\n",
       "    </tr>\n",
       "  </thead>\n",
       "  <tbody>\n",
       "    <tr>\n",
       "      <th>5</th>\n",
       "      <td>0.0</td>\n",
       "    </tr>\n",
       "    <tr>\n",
       "      <th>10</th>\n",
       "      <td>0.0</td>\n",
       "    </tr>\n",
       "    <tr>\n",
       "      <th>11</th>\n",
       "      <td>0.0</td>\n",
       "    </tr>\n",
       "    <tr>\n",
       "      <th>13</th>\n",
       "      <td>0.0</td>\n",
       "    </tr>\n",
       "    <tr>\n",
       "      <th>16</th>\n",
       "      <td>0.0</td>\n",
       "    </tr>\n",
       "  </tbody>\n",
       "</table>\n",
       "</div>"
      ],
      "text/plain": [
       "    target\n",
       "id        \n",
       "5      0.0\n",
       "10     0.0\n",
       "11     0.0\n",
       "13     0.0\n",
       "16     0.0"
      ]
     },
     "execution_count": 6,
     "metadata": {},
     "output_type": "execute_result"
    }
   ],
   "source": [
    "knnpred2 = {'id': df_test['id'].values,\n",
    "        'target': knnprediction2[:,1]}\n",
    "df_knnpred2 = DataFrame(knnpred2)\n",
    "\n",
    "df_knnpred2 = df_knnpred2.reset_index().set_index('id')\n",
    "df_knnpred2 = df_knnpred2.drop(columns='index')\n",
    "df_knnpred2.head()"
   ]
  },
  {
   "cell_type": "code",
   "execution_count": 7,
   "metadata": {},
   "outputs": [],
   "source": [
    "df_knnpred2.to_csv(r'C:/Users/kevin/Google Drive/AML/Projects/Coursework/POutput/knn2.csv')"
   ]
  },
  {
   "cell_type": "code",
   "execution_count": 8,
   "metadata": {},
   "outputs": [
    {
     "data": {
      "image/png": "[encoded data removed]",
      "text/plain": [
       "<Figure size 1080x720 with 1 Axes>"
      ]
     },
     "metadata": {
      "needs_background": "light"
     },
     "output_type": "display_data"
    }
   ],
   "source": [
    "knngraph = knn_model2.kneighbors_graph(test_X)\n",
    "knng1 = knngraph.toarray()[0,:]\n",
    "plt.figure(figsize=(15,10))\n",
    "plt.plot(knng1)\n",
    "plt.show()"
   ]
  },
  {
   "cell_type": "markdown",
   "metadata": {},
   "source": [
    "* shows knn is not a good model as it has predicted only 9 predictions will be 1, out of thousands"
   ]
  }
 ],
 "metadata": {
  "kernelspec": {
   "display_name": "Python 3",
   "language": "python",
   "name": "python3"
  },
  "language_info": {
   "codemirror_mode": {
    "name": "ipython",
    "version": 3
   },
   "file_extension": ".py",
   "mimetype": "text/x-python",
   "name": "python",
   "nbconvert_exporter": "python",
   "pygments_lexer": "ipython3",
   "version": "3.6.8"
  }
 },
 "nbformat": 4,
 "nbformat_minor": 2
}
