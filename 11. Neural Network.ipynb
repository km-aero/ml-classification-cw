{
 "cells": [
  {
   "cell_type": "code",
   "execution_count": 1,
   "metadata": {},
   "outputs": [],
   "source": [
    "#initialise general libraries\n",
    "import os\n",
    "import numpy as np\n",
    "import pandas as pd\n",
    "from pandas import DataFrame\n",
    "import pickle\n",
    "from sklearn.metrics import roc_auc_score\n",
    "from sklearn.model_selection import train_test_split\n",
    "from sklearn.neural_network import MLPClassifier\n",
    "\n",
    "from matplotlib import pyplot as plt\n",
    "%matplotlib inline\n",
    "\n",
    "# Allows more columns to be shown for outputs\n",
    "pd.set_option('display.max_columns', 500)\n",
    "pd.set_option('display.max_rows', 5200)"
   ]
  },
  {
   "cell_type": "code",
   "execution_count": 2,
   "metadata": {},
   "outputs": [],
   "source": [
    "#set directories\n",
    "dirPData = \"C:/Users/kevin/Google Drive/AML/Projects/Coursework/PData/\"\n",
    "dirPOutput = \"C:/Users/kevin/Google Drive/AML/Projects/Coursework/POutput/\""
   ]
  },
  {
   "cell_type": "code",
   "execution_count": 3,
   "metadata": {},
   "outputs": [],
   "source": [
    "#import variables\n",
    "f_name = dirPData + 'ohprepVars.pickle'\n",
    "\n",
    "with open(f_name, \"rb\") as f:\n",
    "    dict_ = pickle.load(f)\n",
    "    \n",
    "df_test = dict_['df_test']\n",
    "df_train = dict_['df_train']\n",
    "OH_df_test = dict_['OH_df_test']\n",
    "OH_df_train = dict_['OH_df_train']\n",
    "del f_name, dict_\n",
    "\n",
    "#prepare X and y\n",
    "train_y = df_train['target'].values\n",
    "\n",
    "var_notToUse = ['id']\n",
    "\n",
    "allFeatures = [var for var in OH_df_train]\n",
    "\n",
    "train_X = OH_df_train[allFeatures]\n",
    "test_X = OH_df_test[allFeatures]\n",
    "\n",
    "#prepare validation data\n",
    "train_Xv, test_Xv, train_yv, test_yv = train_test_split(train_X, train_y, test_size=0.25, random_state=1)"
   ]
  },
  {
   "cell_type": "markdown",
   "metadata": {},
   "source": [
    "# Neural Network Model\n",
    "## Multi-Layer Perceptron Classifier \n",
    "### Kaggle Score: 0.81790, Validation Score: 0.6920171782240748\n",
    "<img src=\"multilayp1.png\">"
   ]
  },
  {
   "cell_type": "code",
   "execution_count": 4,
   "metadata": {},
   "outputs": [
    {
     "name": "stdout",
     "output_type": "stream",
     "text": [
      "Validation score: 0.6920171782240748\n"
     ]
    }
   ],
   "source": [
    "mlpc_model1v = MLPClassifier(random_state=1, activation='logistic', alpha=0.111, max_iter=500, beta_1 = 0.99, n_iter_no_change= 6)\n",
    "mlpc_model1v.fit(train_Xv, train_yv)\n",
    "mlpcprediction1v = mlpc_model1v.predict(test_Xv)\n",
    "print(\"Validation score:\",roc_auc_score(test_yv, mlpcprediction1v))"
   ]
  },
  {
   "cell_type": "code",
   "execution_count": 5,
   "metadata": {},
   "outputs": [],
   "source": [
    "mlpc_model1 = MLPClassifier(random_state=1, activation='logistic', alpha=0.111, max_iter=500, beta_1 = 0.99, n_iter_no_change= 6)\n",
    "mlpc_model1.fit(train_X, train_y)\n",
    "mlpcprediction1 = mlpc_model1.predict_proba(test_X)"
   ]
  },
  {
   "cell_type": "code",
   "execution_count": 6,
   "metadata": {},
   "outputs": [
    {
     "data": {
      "text/html": [
       "<div>\n",
       "<style scoped>\n",
       "    .dataframe tbody tr th:only-of-type {\n",
       "        vertical-align: middle;\n",
       "    }\n",
       "\n",
       "    .dataframe tbody tr th {\n",
       "        vertical-align: top;\n",
       "    }\n",
       "\n",
       "    .dataframe thead th {\n",
       "        text-align: right;\n",
       "    }\n",
       "</style>\n",
       "<table border=\"1\" class=\"dataframe\">\n",
       "  <thead>\n",
       "    <tr style=\"text-align: right;\">\n",
       "      <th></th>\n",
       "      <th>target</th>\n",
       "    </tr>\n",
       "    <tr>\n",
       "      <th>id</th>\n",
       "      <th></th>\n",
       "    </tr>\n",
       "  </thead>\n",
       "  <tbody>\n",
       "    <tr>\n",
       "      <th>5</th>\n",
       "      <td>0.082933</td>\n",
       "    </tr>\n",
       "    <tr>\n",
       "      <th>10</th>\n",
       "      <td>0.115747</td>\n",
       "    </tr>\n",
       "    <tr>\n",
       "      <th>11</th>\n",
       "      <td>0.012297</td>\n",
       "    </tr>\n",
       "    <tr>\n",
       "      <th>13</th>\n",
       "      <td>0.391058</td>\n",
       "    </tr>\n",
       "    <tr>\n",
       "      <th>16</th>\n",
       "      <td>0.001175</td>\n",
       "    </tr>\n",
       "  </tbody>\n",
       "</table>\n",
       "</div>"
      ],
      "text/plain": [
       "      target\n",
       "id          \n",
       "5   0.082933\n",
       "10  0.115747\n",
       "11  0.012297\n",
       "13  0.391058\n",
       "16  0.001175"
      ]
     },
     "execution_count": 6,
     "metadata": {},
     "output_type": "execute_result"
    }
   ],
   "source": [
    "mlpcpred1 = {'id': df_test['id'].values,\n",
    "        'target': mlpcprediction1[:,1]}\n",
    "df_mlpcpred1 = DataFrame(mlpcpred1)\n",
    "\n",
    "df_mlpcpred1 = df_mlpcpred1.reset_index().set_index('id')\n",
    "df_mlpcpred1 = df_mlpcpred1.drop(columns='index')\n",
    "df_mlpcpred1.head()"
   ]
  },
  {
   "cell_type": "code",
   "execution_count": 7,
   "metadata": {},
   "outputs": [],
   "source": [
    "df_mlpcpred1.to_csv(r'C:/Users/kevin/Google Drive/AML/Projects/Coursework/POutput/multilayp1.csv')"
   ]
  },
  {
   "cell_type": "code",
   "execution_count": 8,
   "metadata": {},
   "outputs": [
    {
     "name": "stdout",
     "output_type": "stream",
     "text": [
      "Model has 3 layers and 175 iterations\n"
     ]
    }
   ],
   "source": [
    "nlayers = mlpc_model1.n_layers_\n",
    "niter = mlpc_model1.n_iter_\n",
    "print(\"Model has\", nlayers, \"layers and\", niter, \"iterations\")"
   ]
  }
 ],
 "metadata": {
  "kernelspec": {
   "display_name": "Python 3",
   "language": "python",
   "name": "python3"
  },
  "language_info": {
   "codemirror_mode": {
    "name": "ipython",
    "version": 3
   },
   "file_extension": ".py",
   "mimetype": "text/x-python",
   "name": "python",
   "nbconvert_exporter": "python",
   "pygments_lexer": "ipython3",
   "version": "3.6.8"
  }
 },
 "nbformat": 4,
 "nbformat_minor": 2
}
